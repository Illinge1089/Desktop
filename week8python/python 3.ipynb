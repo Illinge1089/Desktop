{
  "metadata": {
    "kernelspec": {
      "name": "python",
      "display_name": "Python (Pyodide)",
      "language": "python"
    },
    "language_info": {
      "codemirror_mode": {
        "name": "python",
        "version": 3
      },
      "file_extension": ".py",
      "mimetype": "text/x-python",
      "name": "python",
      "nbconvert_exporter": "python",
      "pygments_lexer": "ipython3",
      "version": "3.8"
    }
  },
  "nbformat_minor": 5,
  "nbformat": 4,
  "cells": [
    {
      "id": "899abb84-85de-4f91-95a4-f5389b933bef",
      "cell_type": "code",
      "source": "import pandas as pd\ndf = pd.read_csv('../data/owid-covid-data.csv', parse_dates=['date'])\ndf = df[df['location'].isin(['Kenya', 'United States', 'India'])]  # Filter countries\ndf.head()  # Preview",
      "metadata": {
        "trusted": true
      },
      "outputs": [],
      "execution_count": null
    },
    {
      "id": "ab73d6c1-86ab-4e84-b887-395b84549f6c",
      "cell_type": "code",
      "source": "import matplotlib.pyplot as plt\ndf.groupby(['date', 'location'])['new_cases'].sum().unstack().plot(title='Daily New Cases')\nplt.savefig('../outputs/new_cases_trend.png')  # Save the chart\nplt.show()",
      "metadata": {
        "trusted": true
      },
      "outputs": [],
      "execution_count": null
    },
    {
      "id": "7ade1ce0-5854-45fc-8cec-82dfc6f455cd",
      "cell_type": "code",
      "source": "import plotly.express as px\npx.choropleth(\n    df, \n    locations='iso_code', \n    color='people_vaccinated_per_hundred',\n    title='Global Vaccination Rates'\n).show()",
      "metadata": {
        "trusted": true
      },
      "outputs": [],
      "execution_count": null
    },
    {
      "id": "33c6bdcc-a9ac-48dc-8fab-57c59359e020",
      "cell_type": "markdown",
      "source": "## Key Insights\n- **Wave Patterns**: Europe had sharper COVID waves than Africa.\n- **Vaccine Equity**: High-income countries vaccinated 3x faster.",
      "metadata": {}
    }
  ]
}